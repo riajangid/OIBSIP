{
 "cells": [
  {
   "cell_type": "markdown",
   "id": "327658cc",
   "metadata": {},
   "source": [
    "# TASK3:SALES PREDICTION USING PYTHON"
   ]
  },
  {
   "cell_type": "markdown",
   "id": "7ae34686",
   "metadata": {},
   "source": [
    "IMPORTING LIBRARIES"
   ]
  },
  {
   "cell_type": "code",
   "execution_count": 1,
   "id": "c3cf5836",
   "metadata": {},
   "outputs": [],
   "source": [
    "import pandas as pd\n",
    "import numpy as np\n",
    "import matplotlib.pyplot as plt\n",
    "import seaborn as sns\n",
    "import warnings\n",
    "warnings.filterwarnings('ignore')"
   ]
  },
  {
   "cell_type": "code",
   "execution_count": 2,
   "id": "2a6f361e",
   "metadata": {},
   "outputs": [
    {
     "data": {
      "text/html": [
       "<div>\n",
       "<style scoped>\n",
       "    .dataframe tbody tr th:only-of-type {\n",
       "        vertical-align: middle;\n",
       "    }\n",
       "\n",
       "    .dataframe tbody tr th {\n",
       "        vertical-align: top;\n",
       "    }\n",
       "\n",
       "    .dataframe thead th {\n",
       "        text-align: right;\n",
       "    }\n",
       "</style>\n",
       "<table border=\"1\" class=\"dataframe\">\n",
       "  <thead>\n",
       "    <tr style=\"text-align: right;\">\n",
       "      <th></th>\n",
       "      <th>Unnamed: 0</th>\n",
       "      <th>TV</th>\n",
       "      <th>Radio</th>\n",
       "      <th>Newspaper</th>\n",
       "      <th>Sales</th>\n",
       "    </tr>\n",
       "  </thead>\n",
       "  <tbody>\n",
       "    <tr>\n",
       "      <th>0</th>\n",
       "      <td>1</td>\n",
       "      <td>230.1</td>\n",
       "      <td>37.8</td>\n",
       "      <td>69.2</td>\n",
       "      <td>22.1</td>\n",
       "    </tr>\n",
       "    <tr>\n",
       "      <th>1</th>\n",
       "      <td>2</td>\n",
       "      <td>44.5</td>\n",
       "      <td>39.3</td>\n",
       "      <td>45.1</td>\n",
       "      <td>10.4</td>\n",
       "    </tr>\n",
       "    <tr>\n",
       "      <th>2</th>\n",
       "      <td>3</td>\n",
       "      <td>17.2</td>\n",
       "      <td>45.9</td>\n",
       "      <td>69.3</td>\n",
       "      <td>9.3</td>\n",
       "    </tr>\n",
       "    <tr>\n",
       "      <th>3</th>\n",
       "      <td>4</td>\n",
       "      <td>151.5</td>\n",
       "      <td>41.3</td>\n",
       "      <td>58.5</td>\n",
       "      <td>18.5</td>\n",
       "    </tr>\n",
       "    <tr>\n",
       "      <th>4</th>\n",
       "      <td>5</td>\n",
       "      <td>180.8</td>\n",
       "      <td>10.8</td>\n",
       "      <td>58.4</td>\n",
       "      <td>12.9</td>\n",
       "    </tr>\n",
       "  </tbody>\n",
       "</table>\n",
       "</div>"
      ],
      "text/plain": [
       "   Unnamed: 0     TV  Radio  Newspaper  Sales\n",
       "0           1  230.1   37.8       69.2   22.1\n",
       "1           2   44.5   39.3       45.1   10.4\n",
       "2           3   17.2   45.9       69.3    9.3\n",
       "3           4  151.5   41.3       58.5   18.5\n",
       "4           5  180.8   10.8       58.4   12.9"
      ]
     },
     "execution_count": 2,
     "metadata": {},
     "output_type": "execute_result"
    }
   ],
   "source": [
    "df=pd.read_csv('downloads/Advertising.csv')\n",
    "df.head()"
   ]
  },
  {
   "cell_type": "code",
   "execution_count": 3,
   "id": "24043996",
   "metadata": {},
   "outputs": [
    {
     "data": {
      "text/plain": [
       "(200, 5)"
      ]
     },
     "execution_count": 3,
     "metadata": {},
     "output_type": "execute_result"
    }
   ],
   "source": [
    "df.shape"
   ]
  },
  {
   "cell_type": "code",
   "execution_count": 4,
   "id": "75c2f606",
   "metadata": {},
   "outputs": [
    {
     "data": {
      "text/plain": [
       "['Unnamed: 0', 'TV', 'Radio', 'Newspaper', 'Sales']"
      ]
     },
     "execution_count": 4,
     "metadata": {},
     "output_type": "execute_result"
    }
   ],
   "source": [
    "df.columns.values.tolist()"
   ]
  },
  {
   "cell_type": "code",
   "execution_count": 5,
   "id": "9f07ec3d",
   "metadata": {},
   "outputs": [
    {
     "name": "stdout",
     "output_type": "stream",
     "text": [
      "<class 'pandas.core.frame.DataFrame'>\n",
      "RangeIndex: 200 entries, 0 to 199\n",
      "Data columns (total 5 columns):\n",
      " #   Column      Non-Null Count  Dtype  \n",
      "---  ------      --------------  -----  \n",
      " 0   Unnamed: 0  200 non-null    int64  \n",
      " 1   TV          200 non-null    float64\n",
      " 2   Radio       200 non-null    float64\n",
      " 3   Newspaper   200 non-null    float64\n",
      " 4   Sales       200 non-null    float64\n",
      "dtypes: float64(4), int64(1)\n",
      "memory usage: 7.9 KB\n"
     ]
    }
   ],
   "source": [
    "df.info()"
   ]
  },
  {
   "cell_type": "code",
   "execution_count": 6,
   "id": "ba8146de",
   "metadata": {},
   "outputs": [
    {
     "data": {
      "text/html": [
       "<div>\n",
       "<style scoped>\n",
       "    .dataframe tbody tr th:only-of-type {\n",
       "        vertical-align: middle;\n",
       "    }\n",
       "\n",
       "    .dataframe tbody tr th {\n",
       "        vertical-align: top;\n",
       "    }\n",
       "\n",
       "    .dataframe thead th {\n",
       "        text-align: right;\n",
       "    }\n",
       "</style>\n",
       "<table border=\"1\" class=\"dataframe\">\n",
       "  <thead>\n",
       "    <tr style=\"text-align: right;\">\n",
       "      <th></th>\n",
       "      <th>Unnamed: 0</th>\n",
       "      <th>TV</th>\n",
       "      <th>Radio</th>\n",
       "      <th>Newspaper</th>\n",
       "      <th>Sales</th>\n",
       "    </tr>\n",
       "  </thead>\n",
       "  <tbody>\n",
       "    <tr>\n",
       "      <th>count</th>\n",
       "      <td>200.000000</td>\n",
       "      <td>200.000000</td>\n",
       "      <td>200.000000</td>\n",
       "      <td>200.000000</td>\n",
       "      <td>200.000000</td>\n",
       "    </tr>\n",
       "    <tr>\n",
       "      <th>mean</th>\n",
       "      <td>100.500000</td>\n",
       "      <td>147.042500</td>\n",
       "      <td>23.264000</td>\n",
       "      <td>30.554000</td>\n",
       "      <td>14.022500</td>\n",
       "    </tr>\n",
       "    <tr>\n",
       "      <th>std</th>\n",
       "      <td>57.879185</td>\n",
       "      <td>85.854236</td>\n",
       "      <td>14.846809</td>\n",
       "      <td>21.778621</td>\n",
       "      <td>5.217457</td>\n",
       "    </tr>\n",
       "    <tr>\n",
       "      <th>min</th>\n",
       "      <td>1.000000</td>\n",
       "      <td>0.700000</td>\n",
       "      <td>0.000000</td>\n",
       "      <td>0.300000</td>\n",
       "      <td>1.600000</td>\n",
       "    </tr>\n",
       "    <tr>\n",
       "      <th>25%</th>\n",
       "      <td>50.750000</td>\n",
       "      <td>74.375000</td>\n",
       "      <td>9.975000</td>\n",
       "      <td>12.750000</td>\n",
       "      <td>10.375000</td>\n",
       "    </tr>\n",
       "    <tr>\n",
       "      <th>50%</th>\n",
       "      <td>100.500000</td>\n",
       "      <td>149.750000</td>\n",
       "      <td>22.900000</td>\n",
       "      <td>25.750000</td>\n",
       "      <td>12.900000</td>\n",
       "    </tr>\n",
       "    <tr>\n",
       "      <th>75%</th>\n",
       "      <td>150.250000</td>\n",
       "      <td>218.825000</td>\n",
       "      <td>36.525000</td>\n",
       "      <td>45.100000</td>\n",
       "      <td>17.400000</td>\n",
       "    </tr>\n",
       "    <tr>\n",
       "      <th>max</th>\n",
       "      <td>200.000000</td>\n",
       "      <td>296.400000</td>\n",
       "      <td>49.600000</td>\n",
       "      <td>114.000000</td>\n",
       "      <td>27.000000</td>\n",
       "    </tr>\n",
       "  </tbody>\n",
       "</table>\n",
       "</div>"
      ],
      "text/plain": [
       "       Unnamed: 0          TV       Radio   Newspaper       Sales\n",
       "count  200.000000  200.000000  200.000000  200.000000  200.000000\n",
       "mean   100.500000  147.042500   23.264000   30.554000   14.022500\n",
       "std     57.879185   85.854236   14.846809   21.778621    5.217457\n",
       "min      1.000000    0.700000    0.000000    0.300000    1.600000\n",
       "25%     50.750000   74.375000    9.975000   12.750000   10.375000\n",
       "50%    100.500000  149.750000   22.900000   25.750000   12.900000\n",
       "75%    150.250000  218.825000   36.525000   45.100000   17.400000\n",
       "max    200.000000  296.400000   49.600000  114.000000   27.000000"
      ]
     },
     "execution_count": 6,
     "metadata": {},
     "output_type": "execute_result"
    }
   ],
   "source": [
    "df.describe()"
   ]
  },
  {
   "cell_type": "code",
   "execution_count": 7,
   "id": "7f70e4b3",
   "metadata": {},
   "outputs": [
    {
     "data": {
      "text/plain": [
       "Unnamed: 0    0\n",
       "TV            0\n",
       "Radio         0\n",
       "Newspaper     0\n",
       "Sales         0\n",
       "dtype: int64"
      ]
     },
     "execution_count": 7,
     "metadata": {},
     "output_type": "execute_result"
    }
   ],
   "source": [
    "df.isnull().sum()"
   ]
  },
  {
   "cell_type": "code",
   "execution_count": 8,
   "id": "aaa04f9c",
   "metadata": {},
   "outputs": [
    {
     "data": {
      "image/png": "[encoded data removed]",
      "text/plain": [
       "<Figure size 500x500 with 3 Axes>"
      ]
     },
     "metadata": {},
     "output_type": "display_data"
    }
   ],
   "source": [
    "fig,axs=plt.subplots(3, figsize=(5,5))\n",
    "plt1=sns.boxplot(df['TV'],ax=axs[0])\n",
    "plt2=sns.boxplot(df['Newspaper'],ax=axs[1])\n",
    "plt3=sns.boxplot(df['Radio'],ax=axs[2])\n",
    "plt.tight_layout()"
   ]
  },
  {
   "cell_type": "code",
   "execution_count": 9,
   "id": "ebba6c45",
   "metadata": {},
   "outputs": [
    {
     "data": {
      "text/plain": [
       "<AxesSubplot:xlabel='Newspaper', ylabel='Density'>"
      ]
     },
     "execution_count": 9,
     "metadata": {},
     "output_type": "execute_result"
    },
    {
     "data": {
      "image/png": "[encoded data removed]",
      "text/plain": [
       "<Figure size 640x480 with 1 Axes>"
      ]
     },
     "metadata": {},
     "output_type": "display_data"
    }
   ],
   "source": [
    "sns.distplot(df['Newspaper'])"
   ]
  },
  {
   "cell_type": "code",
   "execution_count": 10,
   "id": "75648b9e",
   "metadata": {},
   "outputs": [],
   "source": [
    "iqr=df.Newspaper.quantile(0.75)-df.Newspaper.quantile(0.25)"
   ]
  },
  {
   "cell_type": "code",
   "execution_count": 11,
   "id": "9560ea2d",
   "metadata": {},
   "outputs": [
    {
     "name": "stdout",
     "output_type": "stream",
     "text": [
      "-35.775000000000006\n",
      "93.625\n"
     ]
    }
   ],
   "source": [
    "lower_bridge=df['Newspaper'].quantile(0.25)-(iqr*1.5)\n",
    "upper_bridge=df['Newspaper'].quantile(0.75)+(iqr*1.5)\n",
    "print(lower_bridge)\n",
    "print(upper_bridge)"
   ]
  },
  {
   "cell_type": "code",
   "execution_count": 12,
   "id": "c06e6698",
   "metadata": {},
   "outputs": [],
   "source": [
    "data=df.copy()"
   ]
  },
  {
   "cell_type": "code",
   "execution_count": 13,
   "id": "b112d486",
   "metadata": {},
   "outputs": [],
   "source": [
    "data.loc[data['Newspaper']>=93,'Newspaper']=93"
   ]
  },
  {
   "cell_type": "code",
   "execution_count": 14,
   "id": "27680b3e",
   "metadata": {},
   "outputs": [
    {
     "data": {
      "text/plain": [
       "<AxesSubplot:xlabel='Newspaper'>"
      ]
     },
     "execution_count": 14,
     "metadata": {},
     "output_type": "execute_result"
    },
    {
     "data": {
      "image/png": "[encoded data removed]",
      "text/plain": [
       "<Figure size 640x480 with 1 Axes>"
      ]
     },
     "metadata": {},
     "output_type": "display_data"
    }
   ],
   "source": [
    "sns.boxplot(data['Newspaper'])"
   ]
  },
  {
   "cell_type": "code",
   "execution_count": 15,
   "id": "4537e57f",
   "metadata": {},
   "outputs": [
    {
     "data": {
      "text/plain": [
       "<AxesSubplot:xlabel='Sales'>"
      ]
     },
     "execution_count": 15,
     "metadata": {},
     "output_type": "execute_result"
    },
    {
     "data": {
      "image/png": "[encoded data removed]",
      "text/plain": [
       "<Figure size 640x480 with 1 Axes>"
      ]
     },
     "metadata": {},
     "output_type": "display_data"
    }
   ],
   "source": [
    "sns.boxplot(data['Sales'])"
   ]
  },
  {
   "cell_type": "code",
   "execution_count": 16,
   "id": "262dc7ce",
   "metadata": {},
   "outputs": [
    {
     "data": {
      "image/png": "[encoded data removed]",
      "text/plain": [
       "<Figure size 1200x400 with 3 Axes>"
      ]
     },
     "metadata": {},
     "output_type": "display_data"
    }
   ],
   "source": [
    "sns.pairplot(data,x_vars=['TV','Newspaper','Radio'],\n",
    "             y_vars='Sales',height=4,aspect=1,kind='scatter')\n",
    "plt.show()"
   ]
  },
  {
   "cell_type": "code",
   "execution_count": 17,
   "id": "5d1e837f",
   "metadata": {},
   "outputs": [
    {
     "data": {
      "image/png": "[encoded data removed]",
      "text/plain": [
       "<Figure size 640x480 with 2 Axes>"
      ]
     },
     "metadata": {},
     "output_type": "display_data"
    }
   ],
   "source": [
    "sns.heatmap(data.corr(),cmap='YlGnBu',annot=True)\n",
    "plt.show()"
   ]
  },
  {
   "cell_type": "code",
   "execution_count": 18,
   "id": "4277327c",
   "metadata": {},
   "outputs": [],
   "source": [
    "important_features=list(df.corr()['Sales'][(df.corr()['Sales']>+0.5)|(df.corr()['Sales']<-0.5)].index)"
   ]
  },
  {
   "cell_type": "code",
   "execution_count": 19,
   "id": "6ba8f1e1",
   "metadata": {},
   "outputs": [
    {
     "name": "stdout",
     "output_type": "stream",
     "text": [
      "['TV', 'Radio', 'Sales']\n"
     ]
    }
   ],
   "source": [
    "print(important_features)"
   ]
  },
  {
   "cell_type": "code",
   "execution_count": 20,
   "id": "dc53e610",
   "metadata": {},
   "outputs": [],
   "source": [
    "x=data['TV']\n",
    "y=data['Sales']"
   ]
  },
  {
   "cell_type": "code",
   "execution_count": 21,
   "id": "f6c6bd5a",
   "metadata": {},
   "outputs": [
    {
     "data": {
      "text/plain": [
       "array([[230.1],\n",
       "       [ 44.5],\n",
       "       [ 17.2],\n",
       "       [151.5],\n",
       "       [180.8],\n",
       "       [  8.7],\n",
       "       [ 57.5],\n",
       "       [120.2],\n",
       "       [  8.6],\n",
       "       [199.8],\n",
       "       [ 66.1],\n",
       "       [214.7],\n",
       "       [ 23.8],\n",
       "       [ 97.5],\n",
       "       [204.1],\n",
       "       [195.4],\n",
       "       [ 67.8],\n",
       "       [281.4],\n",
       "       [ 69.2],\n",
       "       [147.3],\n",
       "       [218.4],\n",
       "       [237.4],\n",
       "       [ 13.2],\n",
       "       [228.3],\n",
       "       [ 62.3],\n",
       "       [262.9],\n",
       "       [142.9],\n",
       "       [240.1],\n",
       "       [248.8],\n",
       "       [ 70.6],\n",
       "       [292.9],\n",
       "       [112.9],\n",
       "       [ 97.2],\n",
       "       [265.6],\n",
       "       [ 95.7],\n",
       "       [290.7],\n",
       "       [266.9],\n",
       "       [ 74.7],\n",
       "       [ 43.1],\n",
       "       [228. ],\n",
       "       [202.5],\n",
       "       [177. ],\n",
       "       [293.6],\n",
       "       [206.9],\n",
       "       [ 25.1],\n",
       "       [175.1],\n",
       "       [ 89.7],\n",
       "       [239.9],\n",
       "       [227.2],\n",
       "       [ 66.9],\n",
       "       [199.8],\n",
       "       [100.4],\n",
       "       [216.4],\n",
       "       [182.6],\n",
       "       [262.7],\n",
       "       [198.9],\n",
       "       [  7.3],\n",
       "       [136.2],\n",
       "       [210.8],\n",
       "       [210.7],\n",
       "       [ 53.5],\n",
       "       [261.3],\n",
       "       [239.3],\n",
       "       [102.7],\n",
       "       [131.1],\n",
       "       [ 69. ],\n",
       "       [ 31.5],\n",
       "       [139.3],\n",
       "       [237.4],\n",
       "       [216.8],\n",
       "       [199.1],\n",
       "       [109.8],\n",
       "       [ 26.8],\n",
       "       [129.4],\n",
       "       [213.4],\n",
       "       [ 16.9],\n",
       "       [ 27.5],\n",
       "       [120.5],\n",
       "       [  5.4],\n",
       "       [116. ],\n",
       "       [ 76.4],\n",
       "       [239.8],\n",
       "       [ 75.3],\n",
       "       [ 68.4],\n",
       "       [213.5],\n",
       "       [193.2],\n",
       "       [ 76.3],\n",
       "       [110.7],\n",
       "       [ 88.3],\n",
       "       [109.8],\n",
       "       [134.3],\n",
       "       [ 28.6],\n",
       "       [217.7],\n",
       "       [250.9],\n",
       "       [107.4],\n",
       "       [163.3],\n",
       "       [197.6],\n",
       "       [184.9],\n",
       "       [289.7],\n",
       "       [135.2],\n",
       "       [222.4],\n",
       "       [296.4],\n",
       "       [280.2],\n",
       "       [187.9],\n",
       "       [238.2],\n",
       "       [137.9],\n",
       "       [ 25. ],\n",
       "       [ 90.4],\n",
       "       [ 13.1],\n",
       "       [255.4],\n",
       "       [225.8],\n",
       "       [241.7],\n",
       "       [175.7],\n",
       "       [209.6],\n",
       "       [ 78.2],\n",
       "       [ 75.1],\n",
       "       [139.2],\n",
       "       [ 76.4],\n",
       "       [125.7],\n",
       "       [ 19.4],\n",
       "       [141.3],\n",
       "       [ 18.8],\n",
       "       [224. ],\n",
       "       [123.1],\n",
       "       [229.5],\n",
       "       [ 87.2],\n",
       "       [  7.8],\n",
       "       [ 80.2],\n",
       "       [220.3],\n",
       "       [ 59.6],\n",
       "       [  0.7],\n",
       "       [265.2],\n",
       "       [  8.4],\n",
       "       [219.8],\n",
       "       [ 36.9],\n",
       "       [ 48.3],\n",
       "       [ 25.6],\n",
       "       [273.7],\n",
       "       [ 43. ],\n",
       "       [184.9],\n",
       "       [ 73.4],\n",
       "       [193.7],\n",
       "       [220.5],\n",
       "       [104.6],\n",
       "       [ 96.2],\n",
       "       [140.3],\n",
       "       [240.1],\n",
       "       [243.2],\n",
       "       [ 38. ],\n",
       "       [ 44.7],\n",
       "       [280.7],\n",
       "       [121. ],\n",
       "       [197.6],\n",
       "       [171.3],\n",
       "       [187.8],\n",
       "       [  4.1],\n",
       "       [ 93.9],\n",
       "       [149.8],\n",
       "       [ 11.7],\n",
       "       [131.7],\n",
       "       [172.5],\n",
       "       [ 85.7],\n",
       "       [188.4],\n",
       "       [163.5],\n",
       "       [117.2],\n",
       "       [234.5],\n",
       "       [ 17.9],\n",
       "       [206.8],\n",
       "       [215.4],\n",
       "       [284.3],\n",
       "       [ 50. ],\n",
       "       [164.5],\n",
       "       [ 19.6],\n",
       "       [168.4],\n",
       "       [222.4],\n",
       "       [276.9],\n",
       "       [248.4],\n",
       "       [170.2],\n",
       "       [276.7],\n",
       "       [165.6],\n",
       "       [156.6],\n",
       "       [218.5],\n",
       "       [ 56.2],\n",
       "       [287.6],\n",
       "       [253.8],\n",
       "       [205. ],\n",
       "       [139.5],\n",
       "       [191.1],\n",
       "       [286. ],\n",
       "       [ 18.7],\n",
       "       [ 39.5],\n",
       "       [ 75.5],\n",
       "       [ 17.2],\n",
       "       [166.8],\n",
       "       [149.7],\n",
       "       [ 38.2],\n",
       "       [ 94.2],\n",
       "       [177. ],\n",
       "       [283.6],\n",
       "       [232.1]])"
      ]
     },
     "execution_count": 21,
     "metadata": {},
     "output_type": "execute_result"
    }
   ],
   "source": [
    "x=x.values.reshape(-1,1)\n",
    "x"
   ]
  },
  {
   "cell_type": "code",
   "execution_count": 22,
   "id": "827ef594",
   "metadata": {},
   "outputs": [
    {
     "data": {
      "text/plain": [
       "0      22.1\n",
       "1      10.4\n",
       "2       9.3\n",
       "3      18.5\n",
       "4      12.9\n",
       "       ... \n",
       "195     7.6\n",
       "196     9.7\n",
       "197    12.8\n",
       "198    25.5\n",
       "199    13.4\n",
       "Name: Sales, Length: 200, dtype: float64"
      ]
     },
     "execution_count": 22,
     "metadata": {},
     "output_type": "execute_result"
    }
   ],
   "source": [
    "y"
   ]
  },
  {
   "cell_type": "code",
   "execution_count": 23,
   "id": "bf5166ef",
   "metadata": {},
   "outputs": [
    {
     "name": "stdout",
     "output_type": "stream",
     "text": [
      "(200, 1) (200,)\n"
     ]
    }
   ],
   "source": [
    "print(x.shape,y.shape)"
   ]
  },
  {
   "cell_type": "code",
   "execution_count": 24,
   "id": "d977fc9c",
   "metadata": {},
   "outputs": [],
   "source": [
    "from sklearn.model_selection import train_test_split\n",
    "x_train,x_test,y_train,y_test=train_test_split(x,y,test_size=0.33)\n"
   ]
  },
  {
   "cell_type": "code",
   "execution_count": 25,
   "id": "7c528864",
   "metadata": {},
   "outputs": [
    {
     "name": "stdout",
     "output_type": "stream",
     "text": [
      "(134, 1) (134,)\n"
     ]
    }
   ],
   "source": [
    "print(x_train.shape,y_train.shape)"
   ]
  },
  {
   "cell_type": "code",
   "execution_count": 26,
   "id": "f49b48b2",
   "metadata": {},
   "outputs": [],
   "source": [
    "from sklearn.metrics import mean_squared_error, r2_score\n",
    "from sklearn.model_selection import cross_val_score, GridSearchCV\n",
    "from sklearn.neighbors import KNeighborsRegressor\n",
    "from sklearn.svm import SVR\n",
    "from sklearn.tree import DecisionTreeRegressor\n",
    "from sklearn.ensemble import RandomForestRegressor"
   ]
  },
  {
   "cell_type": "code",
   "execution_count": 27,
   "id": "ba0a99a1",
   "metadata": {},
   "outputs": [
    {
     "data": {
      "text/plain": [
       "KNeighborsRegressor()"
      ]
     },
     "execution_count": 27,
     "metadata": {},
     "output_type": "execute_result"
    }
   ],
   "source": [
    "knn=KNeighborsRegressor().fit(x_train,y_train)\n",
    "knn"
   ]
  },
  {
   "cell_type": "code",
   "execution_count": 28,
   "id": "2cc7cdcf",
   "metadata": {},
   "outputs": [],
   "source": [
    "knn_train_pred=knn.predict(x_train)"
   ]
  },
  {
   "cell_type": "code",
   "execution_count": 29,
   "id": "1dae870d",
   "metadata": {},
   "outputs": [],
   "source": [
    "knn_test_pred=knn.predict(x_test)"
   ]
  },
  {
   "cell_type": "code",
   "execution_count": 30,
   "id": "e40b655a",
   "metadata": {
    "scrolled": true
   },
   "outputs": [
    {
     "name": "stdout",
     "output_type": "stream",
     "text": [
      "[ 8.4  10.54 14.66 13.56 14.06 13.12 16.38 14.66  9.72  9.6  10.66 10.42\n",
      " 16.94 19.16 11.54 19.16 17.7  18.96 17.14  7.18 20.52 18.96 15.34 14.12\n",
      "  7.18 16.98 19.16 21.44 11.3  13.58 11.54 11.32 16.94 10.7   9.12 17.7\n",
      " 11.54 14.06 10.94 21.3  17.36 15.7  10.42  9.98  7.38 18.96 16.32 17.28\n",
      "  7.72 18.6   9.6  13.56 10.66 17.14 10.94 15.48  9.6  18.26 18.6  14.36\n",
      " 14.88 10.8  10.68 17.16 16.32 17.56 14.12 18.96 14.36 17.48 11.22 13.96\n",
      "  6.48 15.72 14.12 18.52 10.66  7.18 14.56  7.72 20.98 11.3   6.42 21.3\n",
      "  6.42 14.54 12.66  8.02 10.9  14.88 18.52 12.66 10.7   8.4   7.72 14.06\n",
      " 13.56 12.66  8.02 13.66 17.56 16.32 16.32 16.28  6.42 14.46 15.72 13.12\n",
      " 14.2  21.3  10.66  7.36 15.34 19.88 21.3  11.32 17.48 17.7  18.44 17.48\n",
      " 14.2  14.12 15.42  7.18 11.3  17.28 11.54 17.16 13.72 10.66 15.28  6.42\n",
      " 11.24 18.96] [13.2  18.72 10.7   6.42 15.72 14.64 17.1  14.88  6.42 17.14 18.96 16.28\n",
      " 20.52  7.36 13.56 10.7  10.66  9.72 18.26  6.42  8.4  18.72 18.44 10.72\n",
      " 18.26 14.26 10.54 20.9  18.44 11.54 13.42 11.3  21.3  11.54 18.44  8.4\n",
      " 18.72  6.42 15.72 17.48  7.88 10.94 17.18 14.94 14.12 16.98 13.12 23.3\n",
      " 15.36 17.56 16.38 19.54 19.54 18.5  19.88 12.66 18.52 14.64 12.66 14.88\n",
      " 10.5  18.6  10.66 10.9  11.54 18.96]\n"
     ]
    }
   ],
   "source": [
    "print(knn_train_pred,knn_test_pred)"
   ]
  },
  {
   "cell_type": "code",
   "execution_count": 31,
   "id": "e605bbc5",
   "metadata": {},
   "outputs": [],
   "source": [
    "Results=pd.DataFrame(columns=['Model','Train R2','Test R2','Test RMSC','Variance'])"
   ]
  },
  {
   "cell_type": "code",
   "execution_count": 32,
   "id": "4cbd3dea",
   "metadata": {},
   "outputs": [
    {
     "name": "stdout",
     "output_type": "stream",
     "text": [
      "R2: 0.5406911551571059\n",
      "RMSE: 3.768001640609564\n"
     ]
    }
   ],
   "source": [
    "r2=r2_score(y_test,knn_test_pred)\n",
    "r2_train=r2_score(y_train,knn_train_pred)\n",
    "rmse=np.sqrt(mean_squared_error(y_test,knn_test_pred))\n",
    "variance=r2_train-r2\n",
    "Results=Results.append({'Model':'K-Nearest Neighbors','Train R2':r2_train,'Test R2':r2,'Test RMSE':rmse,'Variance':variance},ignore_index=True)\n",
    "print(\"R2:\",r2)\n",
    "print(\"RMSE:\",rmse)"
   ]
  },
  {
   "cell_type": "code",
   "execution_count": 33,
   "id": "3637ed16",
   "metadata": {},
   "outputs": [
    {
     "data": {
      "text/html": [
       "<div>\n",
       "<style scoped>\n",
       "    .dataframe tbody tr th:only-of-type {\n",
       "        vertical-align: middle;\n",
       "    }\n",
       "\n",
       "    .dataframe tbody tr th {\n",
       "        vertical-align: top;\n",
       "    }\n",
       "\n",
       "    .dataframe thead th {\n",
       "        text-align: right;\n",
       "    }\n",
       "</style>\n",
       "<table border=\"1\" class=\"dataframe\">\n",
       "  <thead>\n",
       "    <tr style=\"text-align: right;\">\n",
       "      <th></th>\n",
       "      <th>Model</th>\n",
       "      <th>Train R2</th>\n",
       "      <th>Test R2</th>\n",
       "      <th>Test RMSC</th>\n",
       "      <th>Variance</th>\n",
       "      <th>Test RMSE</th>\n",
       "    </tr>\n",
       "  </thead>\n",
       "  <tbody>\n",
       "    <tr>\n",
       "      <th>0</th>\n",
       "      <td>K-Nearest Neighbors</td>\n",
       "      <td>0.643434</td>\n",
       "      <td>0.540691</td>\n",
       "      <td>NaN</td>\n",
       "      <td>0.102743</td>\n",
       "      <td>3.768002</td>\n",
       "    </tr>\n",
       "  </tbody>\n",
       "</table>\n",
       "</div>"
      ],
      "text/plain": [
       "                 Model  Train R2   Test R2 Test RMSC  Variance  Test RMSE\n",
       "0  K-Nearest Neighbors  0.643434  0.540691       NaN  0.102743   3.768002"
      ]
     },
     "execution_count": 33,
     "metadata": {},
     "output_type": "execute_result"
    }
   ],
   "source": [
    "Results.head()"
   ]
  },
  {
   "cell_type": "code",
   "execution_count": 34,
   "id": "82a0117d",
   "metadata": {},
   "outputs": [
    {
     "data": {
      "text/plain": [
       "SVR()"
      ]
     },
     "execution_count": 34,
     "metadata": {},
     "output_type": "execute_result"
    }
   ],
   "source": [
    "svr=SVR().fit(x_train,y_train)\n",
    "svr"
   ]
  },
  {
   "cell_type": "code",
   "execution_count": 35,
   "id": "0bd149c3",
   "metadata": {},
   "outputs": [],
   "source": [
    "svr_train_pred=svr.predict(x_train)\n",
    "svr_test_pred=svr.predict(x_test)"
   ]
  },
  {
   "cell_type": "code",
   "execution_count": 36,
   "id": "efd5d021",
   "metadata": {},
   "outputs": [
    {
     "name": "stdout",
     "output_type": "stream",
     "text": [
      "[ 8.40175362  8.80076005 15.44577279 13.98324751 13.00028519 11.91886549\n",
      " 16.77660343 15.41324978  9.16663859  9.66529692 10.09676076  8.69904076\n",
      " 15.81012806 16.98289801 10.41930444 16.92100179 17.52272254 17.53184705\n",
      " 17.49965005  8.14085084 17.00772055 17.5368982  17.40207333 13.46080259\n",
      "  8.12138669 15.92695541 17.00206674 16.90079841 11.29977985 15.27104049\n",
      " 10.41930444 10.49960658 15.7169636   9.01354985  8.5002981  17.51785856\n",
      " 10.41483919 12.96889596 11.01046352 16.63461227 16.42267901 13.1374576\n",
      "  8.74164661  9.39362116  8.10028513 16.22780393 14.76694538 17.32087197\n",
      "  8.08446573 17.20431067  9.51336571 13.84836734 10.03384042 17.48514992\n",
      " 11.04153949 17.49511367  9.57133576 17.53085573 17.22426686 15.51582373\n",
      " 16.58016692 10.89953795  9.78649443 16.3244945  14.88576279 17.14361716\n",
      " 13.40085173 17.53184705 15.51582373 17.25541378 11.48830616 12.21228815\n",
      "  7.97911298 17.4147779  13.51554706 17.01559883  9.99337117  8.11900018\n",
      " 15.04323513  8.07784698 16.80242806 11.27744113  7.92600041 16.70564205\n",
      "  7.93659846 13.18536876 12.43117555  8.29166269 11.19716358 16.51751255\n",
      " 17.10644772 11.67891736  8.94690298  8.30675743  8.08446573 12.88051018\n",
      " 13.988885   12.56013132  8.28867001 12.27014188 17.12417563 14.75560494\n",
      " 14.82358778 17.31290985  7.90272983 13.33037655 17.41938289 11.96092493\n",
      " 16.60883273 16.73730075 10.15962872  8.00441376 17.37835532 17.08980529\n",
      " 16.61163201 10.58867808 16.80984749 17.51785856 17.38949982 17.26696888\n",
      " 16.60883273 13.40628994 17.47019344  8.13592311 11.34451651 17.34445455\n",
      " 10.37910172 16.34709467 11.80750388 10.08777502 14.95340414  7.93295363\n",
      " 11.59238403 17.53104687] [13.60359909 16.0994807   8.94276965  7.92055062 17.43693404 13.2388554\n",
      " 17.52842042 16.57190916  7.9353711  17.18114556 17.53946634 17.31290985\n",
      " 17.00455555  8.00264505 14.08490767  9.00516785 10.83299281  9.24019704\n",
      " 17.5324077   7.89320436  8.34386168 16.07524706 17.35146601 10.28516054\n",
      " 17.52039181 12.69098197  8.74946229 16.96915954 17.4136149  10.36122266\n",
      " 12.06447435 11.35795402 16.51800598 10.37016305 17.39262064  8.3660631\n",
      " 16.07038329  7.87872887 17.44518828 17.27152467  8.25345352 10.94833777\n",
      " 17.34508892 15.20477225 13.41717354 15.92695541 11.91886549 16.85075207\n",
      " 14.37450136 17.1706082  16.71588122 16.87432402 16.8778264  17.17862224\n",
      " 17.086882   12.41641575 17.10144456 15.1437159  12.45582977 16.51751255\n",
      "  9.95738969 17.22180512 10.06081176 11.21052916 10.34333673 17.53063268]\n"
     ]
    }
   ],
   "source": [
    "print(svr_train_pred,svr_test_pred)"
   ]
  },
  {
   "cell_type": "code",
   "execution_count": 37,
   "id": "920766cf",
   "metadata": {},
   "outputs": [
    {
     "name": "stdout",
     "output_type": "stream",
     "text": [
      "R2: 0.5406911551571059\n",
      "RMSE: 3.768001640609564\n"
     ]
    }
   ],
   "source": [
    "r2=r2_score(y_test,knn_test_pred)\n",
    "r2_train=r2_score(y_train,knn_train_pred)\n",
    "rmse=np.sqrt(mean_squared_error(y_test,knn_test_pred))\n",
    "variance=r2_train-r2\n",
    "Results=Results.append({'Model':'K-Nearest Neighbors','Train R2':r2_train,'Test R2':r2,'Test RMSE':rmse,'Variance':variance},ignore_index=True)\n",
    "print(\"R2:\",r2)\n",
    "print(\"RMSE:\",rmse)"
   ]
  },
  {
   "cell_type": "code",
   "execution_count": 38,
   "id": "82c9604e",
   "metadata": {},
   "outputs": [
    {
     "data": {
      "text/html": [
       "<div>\n",
       "<style scoped>\n",
       "    .dataframe tbody tr th:only-of-type {\n",
       "        vertical-align: middle;\n",
       "    }\n",
       "\n",
       "    .dataframe tbody tr th {\n",
       "        vertical-align: top;\n",
       "    }\n",
       "\n",
       "    .dataframe thead th {\n",
       "        text-align: right;\n",
       "    }\n",
       "</style>\n",
       "<table border=\"1\" class=\"dataframe\">\n",
       "  <thead>\n",
       "    <tr style=\"text-align: right;\">\n",
       "      <th></th>\n",
       "      <th>Model</th>\n",
       "      <th>Train R2</th>\n",
       "      <th>Test R2</th>\n",
       "      <th>Test RMSC</th>\n",
       "      <th>Variance</th>\n",
       "      <th>Test RMSE</th>\n",
       "    </tr>\n",
       "  </thead>\n",
       "  <tbody>\n",
       "    <tr>\n",
       "      <th>0</th>\n",
       "      <td>K-Nearest Neighbors</td>\n",
       "      <td>0.643434</td>\n",
       "      <td>0.540691</td>\n",
       "      <td>NaN</td>\n",
       "      <td>0.102743</td>\n",
       "      <td>3.768002</td>\n",
       "    </tr>\n",
       "    <tr>\n",
       "      <th>1</th>\n",
       "      <td>K-Nearest Neighbors</td>\n",
       "      <td>0.643434</td>\n",
       "      <td>0.540691</td>\n",
       "      <td>NaN</td>\n",
       "      <td>0.102743</td>\n",
       "      <td>3.768002</td>\n",
       "    </tr>\n",
       "  </tbody>\n",
       "</table>\n",
       "</div>"
      ],
      "text/plain": [
       "                 Model  Train R2   Test R2 Test RMSC  Variance  Test RMSE\n",
       "0  K-Nearest Neighbors  0.643434  0.540691       NaN  0.102743   3.768002\n",
       "1  K-Nearest Neighbors  0.643434  0.540691       NaN  0.102743   3.768002"
      ]
     },
     "execution_count": 38,
     "metadata": {},
     "output_type": "execute_result"
    }
   ],
   "source": [
    "Results.head()"
   ]
  },
  {
   "cell_type": "code",
   "execution_count": 39,
   "id": "4169351a",
   "metadata": {},
   "outputs": [],
   "source": [
    "import statsmodels.api as sm"
   ]
  },
  {
   "cell_type": "code",
   "execution_count": 40,
   "id": "e382f67e",
   "metadata": {},
   "outputs": [],
   "source": [
    "x_train_constant=sm.add_constant(x_train)"
   ]
  },
  {
   "cell_type": "code",
   "execution_count": 41,
   "id": "b041c464",
   "metadata": {},
   "outputs": [],
   "source": [
    "model=sm.OLS(y_train,x_train_constant).fit()"
   ]
  },
  {
   "cell_type": "code",
   "execution_count": 42,
   "id": "a2d77523",
   "metadata": {},
   "outputs": [
    {
     "data": {
      "text/plain": [
       "const    7.421646\n",
       "x1       0.044746\n",
       "dtype: float64"
      ]
     },
     "execution_count": 42,
     "metadata": {},
     "output_type": "execute_result"
    }
   ],
   "source": [
    "model.params"
   ]
  },
  {
   "cell_type": "code",
   "execution_count": 43,
   "id": "9da1030e",
   "metadata": {},
   "outputs": [
    {
     "name": "stdout",
     "output_type": "stream",
     "text": [
      "                            OLS Regression Results                            \n",
      "==============================================================================\n",
      "Dep. Variable:                  Sales   R-squared:                       0.586\n",
      "Model:                            OLS   Adj. R-squared:                  0.583\n",
      "Method:                 Least Squares   F-statistic:                     187.1\n",
      "Date:                Mon, 12 Jun 2023   Prob (F-statistic):           4.45e-27\n",
      "Time:                        10:49:10   Log-Likelihood:                -347.03\n",
      "No. Observations:                 134   AIC:                             698.1\n",
      "Df Residuals:                     132   BIC:                             703.9\n",
      "Df Model:                           1                                         \n",
      "Covariance Type:            nonrobust                                         \n",
      "==============================================================================\n",
      "                 coef    std err          t      P>|t|      [0.025      0.975]\n",
      "------------------------------------------------------------------------------\n",
      "const          7.4216      0.549     13.510      0.000       6.335       8.508\n",
      "x1             0.0447      0.003     13.680      0.000       0.038       0.051\n",
      "==============================================================================\n",
      "Omnibus:                        0.196   Durbin-Watson:                   2.027\n",
      "Prob(Omnibus):                  0.907   Jarque-Bera (JB):                0.367\n",
      "Skew:                           0.019   Prob(JB):                        0.832\n",
      "Kurtosis:                       2.746   Cond. No.                         329.\n",
      "==============================================================================\n",
      "\n",
      "Notes:\n",
      "[1] Standard Errors assume that the covariance matrix of the errors is correctly specified.\n"
     ]
    }
   ],
   "source": [
    "print(model.summary())"
   ]
  },
  {
   "cell_type": "code",
   "execution_count": 44,
   "id": "d2715700",
   "metadata": {},
   "outputs": [
    {
     "data": {
      "image/png": "[encoded data removed]",
      "text/plain": [
       "<Figure size 640x480 with 1 Axes>"
      ]
     },
     "metadata": {},
     "output_type": "display_data"
    }
   ],
   "source": [
    "plt.scatter(x_train,y_train)\n",
    "plt.plot(x_train,6.9955+0.0541*x_train,'y')\n",
    "plt.show()"
   ]
  },
  {
   "cell_type": "code",
   "execution_count": 45,
   "id": "27c1c283",
   "metadata": {},
   "outputs": [
    {
     "data": {
      "text/plain": [
       "91    -1.401373\n",
       "190    1.610899\n",
       "112   -1.183465\n",
       "194    3.179923\n",
       "159   -0.414654\n",
       "         ...   \n",
       "65    -1.209099\n",
       "193    4.714772\n",
       "132   -2.097510\n",
       "63     1.982971\n",
       "47     5.043862\n",
       "Name: Sales, Length: 134, dtype: float64"
      ]
     },
     "execution_count": 45,
     "metadata": {},
     "output_type": "execute_result"
    }
   ],
   "source": [
    "y_train_pred=model.predict(x_train_constant)\n",
    "res=(y_train-y_train_pred)\n",
    "res"
   ]
  },
  {
   "cell_type": "code",
   "execution_count": 46,
   "id": "174578f9",
   "metadata": {},
   "outputs": [
    {
     "data": {
      "text/plain": [
       "array([ 8.70137263,  9.18910073, 15.28346468, 14.12007655, 13.31465401,\n",
       "       12.33472324, 16.55424248, 15.25661726,  9.58286287, 10.08848925,\n",
       "       10.51804794,  9.07276192, 15.59220999, 20.01308486, 10.84021696,\n",
       "       20.1115254 , 18.08007075, 18.16508757, 18.77810362,  8.29866136,\n",
       "       16.85403865, 18.23668069, 17.58786808, 13.699467  ,  8.2628648 ,\n",
       "       15.69512509, 19.98176288, 20.14284739, 11.72618176, 15.14027845,\n",
       "       10.84021696, 10.92075921, 15.51166773,  9.42177836,  8.83113516,\n",
       "       18.04427419, 10.83574239, 13.28780659, 11.43533473, 20.52766038,\n",
       "       16.16495491, 13.43099282,  9.12198219,  9.81554049,  8.22259368,\n",
       "       15.97254842, 14.73756717, 19.36427226,  8.19127169, 17.16278396,\n",
       "        9.93635387, 14.01268688, 10.45540396, 18.84969674, 11.46665672,\n",
       "       17.91451167,  9.99452328, 18.55437514, 17.19858052, 15.34163409,\n",
       "       16.33051399, 11.32347049, 10.20930263, 16.06651438, 14.83153314,\n",
       "       17.05986885, 13.65024674, 18.16508757, 15.34163409, 17.25674992,\n",
       "       11.91411369, 12.61214656,  7.94517035, 17.62366464, 13.7442127 ,\n",
       "       19.95939003, 10.41513283,  8.25839023, 14.95682109,  8.17784798,\n",
       "       20.29050819, 11.70380891,  7.77066213, 20.42921985,  7.81093326,\n",
       "       13.47126395, 12.8135022 ,  8.54476269, 11.62326666, 16.26339545,\n",
       "       19.80278009, 12.10204562,  9.35018524,  8.56713554,  8.19127169,\n",
       "       13.2117389 , 14.12455112, 12.92984101,  8.54028812, 12.6658414 ,\n",
       "       17.02854687, 14.72861804, 14.78231287, 17.37308873,  7.66327246,\n",
       "       13.59207733, 17.63708835, 12.37499437, 16.36183598, 20.38447415,\n",
       "       10.58069191,  8.0122889 , 17.5252241 , 16.97485203, 20.55898237,\n",
       "       11.01025061, 16.5945136 , 18.04427419, 19.18528947, 17.27912277,\n",
       "       16.36183598, 13.6547213 , 17.807122  ,  8.28971222, 11.77092746,\n",
       "       19.30610285, 10.79994583, 16.08888723, 12.22733357, 10.5090988 ,\n",
       "       14.88522798,  7.79750955, 12.01702879, 18.15613843])"
      ]
     },
     "execution_count": 46,
     "metadata": {},
     "output_type": "execute_result"
    }
   ],
   "source": [
    "y_train_pred"
   ]
  },
  {
   "cell_type": "code",
   "execution_count": 47,
   "id": "2c54992f",
   "metadata": {},
   "outputs": [
    {
     "data": {
      "image/png": "[encoded data removed]",
      "text/plain": [
       "<Figure size 640x480 with 1 Axes>"
      ]
     },
     "metadata": {},
     "output_type": "display_data"
    }
   ],
   "source": [
    "fig=plt.figure()\n",
    "sns.distplot(res,bins=15)\n",
    "fig.suptitle('Error Terms',fontsize=15)\n",
    "plt.xlabel('Difference in y_train and y_train_pred',fontsize=15)\n",
    "plt.show()"
   ]
  },
  {
   "cell_type": "code",
   "execution_count": 48,
   "id": "60361ab4",
   "metadata": {},
   "outputs": [
    {
     "data": {
      "image/png": "[encoded data removed]",
      "text/plain": [
       "<Figure size 640x480 with 1 Axes>"
      ]
     },
     "metadata": {},
     "output_type": "display_data"
    }
   ],
   "source": [
    "plt.scatter(x_train,res)\n",
    "plt.show()"
   ]
  },
  {
   "cell_type": "code",
   "execution_count": 49,
   "id": "dc66564e",
   "metadata": {},
   "outputs": [],
   "source": [
    "x_test_constant=sm.add_constant(x_test)\n",
    "y_pred=model.predict(x_test_constant)"
   ]
  },
  {
   "cell_type": "code",
   "execution_count": 50,
   "id": "124e48db",
   "metadata": {},
   "outputs": [
    {
     "data": {
      "text/plain": [
       "array([13.81580581, 15.85173503,  9.34571067,  7.74828929, 17.69078318,\n",
       "       13.51600964, 18.12929102, 16.32156485,  7.80645869, 17.12251283,\n",
       "       18.30379923, 17.37308873, 16.84956408,  8.00781433, 14.20061881,\n",
       "        9.41282922, 11.25635194,  9.65893055, 18.53647686,  7.60510306,\n",
       "        8.62083038, 15.82936218, 19.28820457, 10.70597987, 18.6483411 ,\n",
       "       13.04617982,  9.13093133, 16.80034381, 19.11369635, 10.78204755,\n",
       "       12.4734349 , 11.78435117, 20.68427032, 10.79099669, 19.17634033,\n",
       "        8.65215237, 15.82488761,  7.45296769, 17.7176306 , 17.28807191,\n",
       "        8.48659329, 11.37269075, 17.44468185, 15.08658361, 13.66367044,\n",
       "       15.69512509, 12.33472324, 20.21891507, 14.42882186, 17.10461455,\n",
       "       16.48264936, 16.67505586, 16.67953043, 19.668543  , 16.97037746,\n",
       "       12.80007849, 19.81172923, 15.03736335, 12.83587505, 16.26339545,\n",
       "       10.37933628, 17.19410595, 10.48225138, 11.63669037, 10.76414927,\n",
       "       18.15166386])"
      ]
     },
     "execution_count": 50,
     "metadata": {},
     "output_type": "execute_result"
    }
   ],
   "source": [
    "y_pred"
   ]
  },
  {
   "cell_type": "code",
   "execution_count": 51,
   "id": "2dbdae97",
   "metadata": {},
   "outputs": [],
   "source": [
    "from sklearn.metrics import mean_squared_error\n",
    "from sklearn.metrics import r2_score"
   ]
  },
  {
   "cell_type": "code",
   "execution_count": 52,
   "id": "1ee7eb26",
   "metadata": {},
   "outputs": [
    {
     "data": {
      "text/plain": [
       "3.30434472805016"
      ]
     },
     "execution_count": 52,
     "metadata": {},
     "output_type": "execute_result"
    }
   ],
   "source": [
    "np.sqrt(mean_squared_error(y_test,y_pred))"
   ]
  },
  {
   "cell_type": "code",
   "execution_count": 53,
   "id": "2a92ec64",
   "metadata": {},
   "outputs": [
    {
     "data": {
      "text/plain": [
       "0.6467734493161341"
      ]
     },
     "execution_count": 53,
     "metadata": {},
     "output_type": "execute_result"
    }
   ],
   "source": [
    "r2=r2_score(y_test,y_pred)\n",
    "r2"
   ]
  },
  {
   "cell_type": "code",
   "execution_count": 54,
   "id": "d93b23ab",
   "metadata": {},
   "outputs": [
    {
     "data": {
      "image/png": "[encoded data removed]",
      "text/plain": [
       "<Figure size 640x480 with 1 Axes>"
      ]
     },
     "metadata": {},
     "output_type": "display_data"
    }
   ],
   "source": [
    "plt.scatter(x_test,y_test)\n",
    "plt.plot(x_test,6.9955+0.0541*x_test,'y')\n",
    "plt.show()"
   ]
  }
 ],
 "metadata": {
  "kernelspec": {
   "display_name": "Python 3 (ipykernel)",
   "language": "python",
   "name": "python3"
  },
  "language_info": {
   "codemirror_mode": {
    "name": "ipython",
    "version": 3
   },
   "file_extension": ".py",
   "mimetype": "text/x-python",
   "name": "python",
   "nbconvert_exporter": "python",
   "pygments_lexer": "ipython3",
   "version": "3.9.13"
  }
 },
 "nbformat": 4,
 "nbformat_minor": 5
}
